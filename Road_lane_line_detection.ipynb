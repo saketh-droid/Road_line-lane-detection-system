{
  "nbformat": 4,
  "nbformat_minor": 0,
  "metadata": {
    "colab": {
      "provenance": []
    },
    "kernelspec": {
      "name": "python3",
      "display_name": "Python 3"
    },
    "language_info": {
      "name": "python"
    }
  },
  "cells": [
    {
      "cell_type": "code",
      "source": [
        "import cv2\n",
        "import numpy as np\n",
        "from moviepy.editor import VideoFileClip, ImageSequenceClip\n",
        "from google.colab.patches import cv2_imshow"
      ],
      "metadata": {
        "id": "WWI96SS21xod"
      },
      "execution_count": 8,
      "outputs": []
    },
    {
      "cell_type": "code",
      "source": [
        "def make_coordinates(image, line_parameters):\n",
        "    slope, intercept = line_parameters\n",
        "    y1 = image.shape[0]\n",
        "    y2 = int(y1*(3/5))\n",
        "    x1 = int((y1 - intercept)/slope)\n",
        "    x2 = int((y2 - intercept)/slope)\n",
        "    return np.array([x1, y1, x2, y2])"
      ],
      "metadata": {
        "id": "9HM-jmLj-qt_"
      },
      "execution_count": 9,
      "outputs": []
    },
    {
      "cell_type": "code",
      "source": [
        "def average_slope_intercept(image, lines):\n",
        "    left_fit = []\n",
        "    right_fit = []\n",
        "    for line in lines:\n",
        "        x1, y1, x2, y2 = line.reshape(4)\n",
        "        parameters = np.polyfit((x1, x2), (y1, y2), 1)\n",
        "        slope = parameters[0]\n",
        "        intercept = parameters[1]\n",
        "        if slope < 0:\n",
        "            left_fit.append((slope, intercept))\n",
        "        else:\n",
        "            right_fit.append((slope, intercept))\n",
        "    leftfit_average = np.average(left_fit, axis=0)\n",
        "    rightfit_average = np.average(right_fit, axis=0)\n",
        "    left_line = make_coordinates(image, leftfit_average)\n",
        "    right_line = make_coordinates(image, rightfit_average)\n",
        "    return np.array([left_line, right_line])"
      ],
      "metadata": {
        "id": "S2h9uvfe8pNe"
      },
      "execution_count": 10,
      "outputs": []
    },
    {
      "cell_type": "code",
      "source": [
        "def canny(image):\n",
        "    gray = cv2.cvtColor(image, cv2.COLOR_RGB2GRAY)\n",
        "    blur = cv2.GaussianBlur(gray, (5, 5), 0)\n",
        "    canny_edges = cv2.Canny(blur, 50, 150)\n",
        "    return canny_edges"
      ],
      "metadata": {
        "id": "Wlc4R4hj3MRa"
      },
      "execution_count": 11,
      "outputs": []
    },
    {
      "cell_type": "code",
      "source": [
        "def display_lines(img, lines):\n",
        "    line_image = np.zeros_like(img)\n",
        "    if lines is not None:\n",
        "        for line in lines:\n",
        "            x1, y1, x2, y2 = line.reshape(4)\n",
        "            cv2.line(line_image, (x1,y1), (x2, y2), (255, 0, 0), 10)\n",
        "    return line_image"
      ],
      "metadata": {
        "id": "Ajv_wsws3bIG"
      },
      "execution_count": 12,
      "outputs": []
    },
    {
      "cell_type": "code",
      "source": [
        "def region_of_interest(img):\n",
        "    height = img.shape[0]\n",
        "    triangle = np.array([[(200, height), (1100, height), (550, 250)]])\n",
        "    mask = np.zeros_like(img)\n",
        "    cv2.fillPoly(mask, [triangle], 255)\n",
        "    masked_image = cv2.bitwise_and(img, mask)\n",
        "    return masked_image"
      ],
      "metadata": {
        "id": "JNJOWfKZ1MDM"
      },
      "execution_count": 13,
      "outputs": []
    },
    {
      "cell_type": "code",
      "source": [
        "cap = cv2.VideoCapture(\"test2.mp4\")\n",
        "frames = []\n",
        "if not cap.isOpened():\n",
        "    print(\"Error opening video file\")\n",
        "    exit()\n",
        "while(cap.isOpened()):\n",
        "    ret, frame = cap.read()\n",
        "    if not ret:\n",
        "        break\n",
        "    canny_edges = canny(frame)\n",
        "    cropped_img = region_of_interest(canny_edges)\n",
        "    lines = cv2.HoughLinesP(cropped_img, 2, np.pi/180, 100, np.array([]), minLineLength=40, maxLineGap=5)\n",
        "    avg_lines = average_slope_intercept(frame, lines)\n",
        "    line_image = display_lines(frame, avg_lines)\n",
        "    combo_image =  cv2.addWeighted(frame, 0.8, line_image, 1, 1)\n",
        "    frames.append(combo_image)\n",
        "    if cv2.waitKey(1) & 0xFF == ord('q'):\n",
        "        break\n",
        "cap.release()\n",
        "cv2.destroyAllWindows()\n",
        "\n",
        "clip = ImageSequenceClip(frames, fps=20)  # Create video clip\n",
        "clip.write_videofile(\"output.mp4\", codec=\"libx264\")"
      ],
      "metadata": {
        "colab": {
          "base_uri": "https://localhost:8080/"
        },
        "id": "2u1-7qjq6h1i",
        "outputId": "51cb65cf-399b-410e-e219-59971d75f8d8"
      },
      "execution_count": 15,
      "outputs": [
        {
          "output_type": "stream",
          "name": "stdout",
          "text": [
            "Moviepy - Building video output.mp4.\n",
            "Moviepy - Writing video output.mp4\n",
            "\n"
          ]
        },
        {
          "output_type": "stream",
          "name": "stderr",
          "text": []
        },
        {
          "output_type": "stream",
          "name": "stdout",
          "text": [
            "Moviepy - Done !\n",
            "Moviepy - video ready output.mp4\n"
          ]
        }
      ]
    },
    {
      "cell_type": "code",
      "source": [],
      "metadata": {
        "id": "sz5PhS8RMbp8"
      },
      "execution_count": null,
      "outputs": []
    }
  ]
}